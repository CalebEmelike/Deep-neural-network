{
 "cells": [
  {
   "cell_type": "code",
   "execution_count": 1,
   "metadata": {},
   "outputs": [],
   "source": [
    "# Download the data using keras\n",
    "from keras.datasets import boston_housing"
   ]
  },
  {
   "cell_type": "code",
   "execution_count": 3,
   "metadata": {},
   "outputs": [
    {
     "name": "stdout",
     "output_type": "stream",
     "text": [
      "Downloading data from https://s3.amazonaws.com/keras-datasets/boston_housing.npz\n",
      "57344/57026 [==============================] - 0s 8us/step\n"
     ]
    }
   ],
   "source": [
    "(x_train, y_train), (x_test, y_test) = boston_housing.load_data()"
   ]
  },
  {
   "cell_type": "code",
   "execution_count": 4,
   "metadata": {},
   "outputs": [
    {
     "name": "stdout",
     "output_type": "stream",
     "text": [
      "(404, 13)\n",
      "(404,)\n",
      "(102, 13)\n",
      "(102,)\n"
     ]
    }
   ],
   "source": [
    "print(x_train.shape)\n",
    "print(y_train.shape)\n",
    "print(x_test.shape)\n",
    "print(y_test.shape)"
   ]
  },
  {
   "cell_type": "code",
   "execution_count": 5,
   "metadata": {},
   "outputs": [
    {
     "data": {
      "text/plain": [
       "array([[1.23247e+00, 0.00000e+00, 8.14000e+00, 0.00000e+00, 5.38000e-01,\n",
       "        6.14200e+00, 9.17000e+01, 3.97690e+00, 4.00000e+00, 3.07000e+02,\n",
       "        2.10000e+01, 3.96900e+02, 1.87200e+01],\n",
       "       [2.17700e-02, 8.25000e+01, 2.03000e+00, 0.00000e+00, 4.15000e-01,\n",
       "        7.61000e+00, 1.57000e+01, 6.27000e+00, 2.00000e+00, 3.48000e+02,\n",
       "        1.47000e+01, 3.95380e+02, 3.11000e+00],\n",
       "       [4.89822e+00, 0.00000e+00, 1.81000e+01, 0.00000e+00, 6.31000e-01,\n",
       "        4.97000e+00, 1.00000e+02, 1.33250e+00, 2.40000e+01, 6.66000e+02,\n",
       "        2.02000e+01, 3.75520e+02, 3.26000e+00]])"
      ]
     },
     "execution_count": 5,
     "metadata": {},
     "output_type": "execute_result"
    }
   ],
   "source": [
    "x_train[:3,:]"
   ]
  },
  {
   "cell_type": "code",
   "execution_count": 6,
   "metadata": {},
   "outputs": [],
   "source": [
    "# Imprting the lib we will use\n",
    "import numpy as np\n",
    "from keras.models import Sequential\n",
    "from keras.layers import Dense, Activation"
   ]
  },
  {
   "cell_type": "code",
   "execution_count": 7,
   "metadata": {},
   "outputs": [],
   "source": [
    "# Extract the last 104 rows from the training data to create the validation datasets\n",
    "x_val = x_train[300:,]\n",
    "y_val = y_train[300:,]"
   ]
  },
  {
   "cell_type": "code",
   "execution_count": 9,
   "metadata": {},
   "outputs": [
    {
     "data": {
      "text/plain": [
       "(104,)"
      ]
     },
     "execution_count": 9,
     "metadata": {},
     "output_type": "execute_result"
    }
   ],
   "source": [
    "y_val.shape"
   ]
  },
  {
   "cell_type": "code",
   "execution_count": 41,
   "metadata": {},
   "outputs": [],
   "source": [
    "# Define the model architecture\n",
    "model = Sequential()\n",
    "model.add(Dense(9, input_dim=13, kernel_initializer='normal', activation='relu'))\n",
    "model.add(Dense(6, kernel_initializer='normal', activation='relu'))\n",
    "model.add(Dense(1, kernel_initializer='normal'))"
   ]
  },
  {
   "cell_type": "code",
   "execution_count": 42,
   "metadata": {},
   "outputs": [],
   "source": [
    "# Compile Model\n",
    "model.compile(loss='mean_squared_error', optimizer='adam', metrics=['mean_squared_error'])"
   ]
  },
  {
   "cell_type": "code",
   "execution_count": 43,
   "metadata": {
    "scrolled": false
   },
   "outputs": [
    {
     "name": "stdout",
     "output_type": "stream",
     "text": [
      "Train on 404 samples, validate on 104 samples\n",
      "Epoch 1/100\n",
      "404/404 [==============================] - 0s 429us/step - loss: 581.6597 - mean_squared_error: 581.6598 - val_loss: 670.1752 - val_mean_squared_error: 670.1752\n",
      "Epoch 2/100\n",
      "404/404 [==============================] - 0s 118us/step - loss: 567.1904 - mean_squared_error: 567.1904 - val_loss: 646.0454 - val_mean_squared_error: 646.0455\n",
      "Epoch 3/100\n",
      "404/404 [==============================] - 0s 107us/step - loss: 533.2011 - mean_squared_error: 533.2010 - val_loss: 590.2117 - val_mean_squared_error: 590.2118\n",
      "Epoch 4/100\n",
      "404/404 [==============================] - 0s 95us/step - loss: 464.3050 - mean_squared_error: 464.3050 - val_loss: 487.9316 - val_mean_squared_error: 487.9316\n",
      "Epoch 5/100\n",
      "404/404 [==============================] - 0s 104us/step - loss: 350.0102 - mean_squared_error: 350.0102 - val_loss: 339.1732 - val_mean_squared_error: 339.1732\n",
      "Epoch 6/100\n",
      "404/404 [==============================] - 0s 84us/step - loss: 220.2809 - mean_squared_error: 220.2809 - val_loss: 195.3456 - val_mean_squared_error: 195.3456\n",
      "Epoch 7/100\n",
      "404/404 [==============================] - 0s 108us/step - loss: 136.4593 - mean_squared_error: 136.4593 - val_loss: 139.4794 - val_mean_squared_error: 139.4794\n",
      "Epoch 8/100\n",
      "404/404 [==============================] - 0s 104us/step - loss: 121.6555 - mean_squared_error: 121.6555 - val_loss: 133.7348 - val_mean_squared_error: 133.7348\n",
      "Epoch 9/100\n",
      "404/404 [==============================] - 0s 107us/step - loss: 117.0379 - mean_squared_error: 117.0379 - val_loss: 131.1548 - val_mean_squared_error: 131.1548\n",
      "Epoch 10/100\n",
      "404/404 [==============================] - 0s 122us/step - loss: 112.4635 - mean_squared_error: 112.4635 - val_loss: 129.4390 - val_mean_squared_error: 129.4391\n",
      "Epoch 11/100\n",
      "404/404 [==============================] - 0s 93us/step - loss: 107.9716 - mean_squared_error: 107.9716 - val_loss: 123.6228 - val_mean_squared_error: 123.6228\n",
      "Epoch 12/100\n",
      "404/404 [==============================] - 0s 101us/step - loss: 103.9599 - mean_squared_error: 103.9599 - val_loss: 119.0447 - val_mean_squared_error: 119.0447\n",
      "Epoch 13/100\n",
      "404/404 [==============================] - 0s 80us/step - loss: 100.3526 - mean_squared_error: 100.3526 - val_loss: 117.0632 - val_mean_squared_error: 117.0632\n",
      "Epoch 14/100\n",
      "404/404 [==============================] - 0s 113us/step - loss: 96.5293 - mean_squared_error: 96.5293 - val_loss: 112.2917 - val_mean_squared_error: 112.2917\n",
      "Epoch 15/100\n",
      "404/404 [==============================] - 0s 122us/step - loss: 93.1088 - mean_squared_error: 93.1088 - val_loss: 109.2441 - val_mean_squared_error: 109.2441\n",
      "Epoch 16/100\n",
      "404/404 [==============================] - 0s 108us/step - loss: 90.0057 - mean_squared_error: 90.0058 - val_loss: 107.1006 - val_mean_squared_error: 107.1006\n",
      "Epoch 17/100\n",
      "404/404 [==============================] - 0s 110us/step - loss: 86.8802 - mean_squared_error: 86.8802 - val_loss: 103.4840 - val_mean_squared_error: 103.4840\n",
      "Epoch 18/100\n",
      "404/404 [==============================] - 0s 99us/step - loss: 84.2628 - mean_squared_error: 84.2628 - val_loss: 99.9214 - val_mean_squared_error: 99.9214\n",
      "Epoch 19/100\n",
      "404/404 [==============================] - 0s 120us/step - loss: 81.7122 - mean_squared_error: 81.7122 - val_loss: 98.5423 - val_mean_squared_error: 98.5423\n",
      "Epoch 20/100\n",
      "404/404 [==============================] - 0s 113us/step - loss: 80.0103 - mean_squared_error: 80.0103 - val_loss: 97.3785 - val_mean_squared_error: 97.3785\n",
      "Epoch 21/100\n",
      "404/404 [==============================] - 0s 120us/step - loss: 77.4745 - mean_squared_error: 77.4745 - val_loss: 93.3484 - val_mean_squared_error: 93.3484\n",
      "Epoch 22/100\n",
      "404/404 [==============================] - 0s 112us/step - loss: 75.3443 - mean_squared_error: 75.3443 - val_loss: 92.8463 - val_mean_squared_error: 92.8463\n",
      "Epoch 23/100\n",
      "404/404 [==============================] - 0s 103us/step - loss: 73.9505 - mean_squared_error: 73.9505 - val_loss: 91.6259 - val_mean_squared_error: 91.6259\n",
      "Epoch 24/100\n",
      "404/404 [==============================] - 0s 107us/step - loss: 72.1895 - mean_squared_error: 72.1895 - val_loss: 88.9341 - val_mean_squared_error: 88.9341\n",
      "Epoch 25/100\n",
      "404/404 [==============================] - 0s 116us/step - loss: 71.0632 - mean_squared_error: 71.0632 - val_loss: 89.1890 - val_mean_squared_error: 89.1890\n",
      "Epoch 26/100\n",
      "404/404 [==============================] - 0s 110us/step - loss: 69.7224 - mean_squared_error: 69.7224 - val_loss: 86.8901 - val_mean_squared_error: 86.8901\n",
      "Epoch 27/100\n",
      "404/404 [==============================] - 0s 115us/step - loss: 68.6328 - mean_squared_error: 68.6328 - val_loss: 86.8454 - val_mean_squared_error: 86.8454\n",
      "Epoch 28/100\n",
      "404/404 [==============================] - 0s 105us/step - loss: 67.6106 - mean_squared_error: 67.6106 - val_loss: 85.2927 - val_mean_squared_error: 85.2927\n",
      "Epoch 29/100\n",
      "404/404 [==============================] - 0s 105us/step - loss: 66.9901 - mean_squared_error: 66.9901 - val_loss: 85.1550 - val_mean_squared_error: 85.1550\n",
      "Epoch 30/100\n",
      "404/404 [==============================] - 0s 107us/step - loss: 66.2808 - mean_squared_error: 66.2808 - val_loss: 84.9262 - val_mean_squared_error: 84.9262\n",
      "Epoch 31/100\n",
      "404/404 [==============================] - 0s 110us/step - loss: 65.8917 - mean_squared_error: 65.8917 - val_loss: 85.5605 - val_mean_squared_error: 85.5605\n",
      "Epoch 32/100\n",
      "404/404 [==============================] - 0s 115us/step - loss: 65.6237 - mean_squared_error: 65.6237 - val_loss: 83.0406 - val_mean_squared_error: 83.0406\n",
      "Epoch 33/100\n",
      "404/404 [==============================] - 0s 122us/step - loss: 64.9403 - mean_squared_error: 64.9403 - val_loss: 83.9774 - val_mean_squared_error: 83.9774\n",
      "Epoch 34/100\n",
      "404/404 [==============================] - 0s 108us/step - loss: 64.3215 - mean_squared_error: 64.3215 - val_loss: 82.6280 - val_mean_squared_error: 82.6280\n",
      "Epoch 35/100\n",
      "404/404 [==============================] - 0s 135us/step - loss: 63.3079 - mean_squared_error: 63.3079 - val_loss: 83.3535 - val_mean_squared_error: 83.3535\n",
      "Epoch 36/100\n",
      "404/404 [==============================] - 0s 112us/step - loss: 63.0470 - mean_squared_error: 63.0470 - val_loss: 82.6483 - val_mean_squared_error: 82.6483\n",
      "Epoch 37/100\n",
      "404/404 [==============================] - 0s 126us/step - loss: 62.2203 - mean_squared_error: 62.2203 - val_loss: 81.9660 - val_mean_squared_error: 81.9660\n",
      "Epoch 38/100\n",
      "404/404 [==============================] - 0s 111us/step - loss: 62.0973 - mean_squared_error: 62.0973 - val_loss: 80.6740 - val_mean_squared_error: 80.6740\n",
      "Epoch 39/100\n",
      "404/404 [==============================] - 0s 143us/step - loss: 61.0948 - mean_squared_error: 61.0948 - val_loss: 83.2559 - val_mean_squared_error: 83.2559\n",
      "Epoch 40/100\n",
      "404/404 [==============================] - 0s 104us/step - loss: 59.8088 - mean_squared_error: 59.8088 - val_loss: 80.2791 - val_mean_squared_error: 80.2791\n",
      "Epoch 41/100\n",
      "404/404 [==============================] - 0s 111us/step - loss: 60.2354 - mean_squared_error: 60.2354 - val_loss: 79.6133 - val_mean_squared_error: 79.6133\n",
      "Epoch 42/100\n",
      "404/404 [==============================] - 0s 117us/step - loss: 58.4303 - mean_squared_error: 58.4303 - val_loss: 81.0387 - val_mean_squared_error: 81.0387\n",
      "Epoch 43/100\n",
      "404/404 [==============================] - 0s 100us/step - loss: 58.9459 - mean_squared_error: 58.9459 - val_loss: 79.6197 - val_mean_squared_error: 79.6197\n",
      "Epoch 44/100\n",
      "404/404 [==============================] - 0s 112us/step - loss: 58.6031 - mean_squared_error: 58.6031 - val_loss: 78.2512 - val_mean_squared_error: 78.2512\n",
      "Epoch 45/100\n",
      "404/404 [==============================] - 0s 109us/step - loss: 57.0702 - mean_squared_error: 57.0702 - val_loss: 80.1600 - val_mean_squared_error: 80.1600\n",
      "Epoch 46/100\n",
      "404/404 [==============================] - 0s 112us/step - loss: 56.1869 - mean_squared_error: 56.1869 - val_loss: 78.3512 - val_mean_squared_error: 78.3512\n",
      "Epoch 47/100\n",
      "404/404 [==============================] - 0s 115us/step - loss: 55.8702 - mean_squared_error: 55.8702 - val_loss: 77.6067 - val_mean_squared_error: 77.6067\n",
      "Epoch 48/100\n",
      "404/404 [==============================] - 0s 120us/step - loss: 55.5559 - mean_squared_error: 55.5559 - val_loss: 78.1301 - val_mean_squared_error: 78.1301\n"
     ]
    },
    {
     "name": "stdout",
     "output_type": "stream",
     "text": [
      "Epoch 49/100\n",
      "404/404 [==============================] - 0s 105us/step - loss: 55.3300 - mean_squared_error: 55.3300 - val_loss: 78.0558 - val_mean_squared_error: 78.0558\n",
      "Epoch 50/100\n",
      "404/404 [==============================] - 0s 100us/step - loss: 54.9779 - mean_squared_error: 54.9779 - val_loss: 76.2431 - val_mean_squared_error: 76.2431\n",
      "Epoch 51/100\n",
      "404/404 [==============================] - 0s 108us/step - loss: 54.2194 - mean_squared_error: 54.2194 - val_loss: 77.3021 - val_mean_squared_error: 77.3021\n",
      "Epoch 52/100\n",
      "404/404 [==============================] - 0s 111us/step - loss: 53.7358 - mean_squared_error: 53.7358 - val_loss: 76.4323 - val_mean_squared_error: 76.4323\n",
      "Epoch 53/100\n",
      "404/404 [==============================] - 0s 110us/step - loss: 53.6090 - mean_squared_error: 53.6090 - val_loss: 75.8766 - val_mean_squared_error: 75.8766\n",
      "Epoch 54/100\n",
      "404/404 [==============================] - 0s 105us/step - loss: 53.5135 - mean_squared_error: 53.5135 - val_loss: 75.9303 - val_mean_squared_error: 75.9303\n",
      "Epoch 55/100\n",
      "404/404 [==============================] - 0s 110us/step - loss: 52.8693 - mean_squared_error: 52.8693 - val_loss: 76.3100 - val_mean_squared_error: 76.3100\n",
      "Epoch 56/100\n",
      "404/404 [==============================] - 0s 114us/step - loss: 54.1405 - mean_squared_error: 54.1405 - val_loss: 76.4443 - val_mean_squared_error: 76.4443\n",
      "Epoch 57/100\n",
      "404/404 [==============================] - 0s 116us/step - loss: 52.7481 - mean_squared_error: 52.7481 - val_loss: 73.5209 - val_mean_squared_error: 73.5209\n",
      "Epoch 58/100\n",
      "404/404 [==============================] - 0s 117us/step - loss: 52.2724 - mean_squared_error: 52.2724 - val_loss: 75.8407 - val_mean_squared_error: 75.8407\n",
      "Epoch 59/100\n",
      "404/404 [==============================] - 0s 112us/step - loss: 51.9697 - mean_squared_error: 51.9697 - val_loss: 74.2285 - val_mean_squared_error: 74.2285\n",
      "Epoch 60/100\n",
      "404/404 [==============================] - 0s 108us/step - loss: 51.5749 - mean_squared_error: 51.5749 - val_loss: 74.5853 - val_mean_squared_error: 74.5853\n",
      "Epoch 61/100\n",
      "404/404 [==============================] - 0s 109us/step - loss: 51.4921 - mean_squared_error: 51.4921 - val_loss: 73.0311 - val_mean_squared_error: 73.0311\n",
      "Epoch 62/100\n",
      "404/404 [==============================] - 0s 101us/step - loss: 51.0057 - mean_squared_error: 51.0057 - val_loss: 74.7461 - val_mean_squared_error: 74.7461\n",
      "Epoch 63/100\n",
      "404/404 [==============================] - 0s 109us/step - loss: 50.9817 - mean_squared_error: 50.9817 - val_loss: 72.4598 - val_mean_squared_error: 72.4598\n",
      "Epoch 64/100\n",
      "404/404 [==============================] - 0s 108us/step - loss: 50.4958 - mean_squared_error: 50.4958 - val_loss: 72.7540 - val_mean_squared_error: 72.7540\n",
      "Epoch 65/100\n",
      "404/404 [==============================] - 0s 104us/step - loss: 50.2333 - mean_squared_error: 50.2333 - val_loss: 72.1869 - val_mean_squared_error: 72.1869\n",
      "Epoch 66/100\n",
      "404/404 [==============================] - 0s 116us/step - loss: 49.9278 - mean_squared_error: 49.9277 - val_loss: 72.8203 - val_mean_squared_error: 72.8204\n",
      "Epoch 67/100\n",
      "404/404 [==============================] - 0s 119us/step - loss: 49.5034 - mean_squared_error: 49.5034 - val_loss: 71.1352 - val_mean_squared_error: 71.1351\n",
      "Epoch 68/100\n",
      "404/404 [==============================] - 0s 122us/step - loss: 49.4554 - mean_squared_error: 49.4554 - val_loss: 71.2528 - val_mean_squared_error: 71.2528\n",
      "Epoch 69/100\n",
      "404/404 [==============================] - 0s 103us/step - loss: 49.2069 - mean_squared_error: 49.2069 - val_loss: 71.1716 - val_mean_squared_error: 71.1716\n",
      "Epoch 70/100\n",
      "404/404 [==============================] - 0s 99us/step - loss: 49.1336 - mean_squared_error: 49.1336 - val_loss: 71.2250 - val_mean_squared_error: 71.2250\n",
      "Epoch 71/100\n",
      "404/404 [==============================] - 0s 111us/step - loss: 48.4976 - mean_squared_error: 48.4976 - val_loss: 69.3834 - val_mean_squared_error: 69.3834\n",
      "Epoch 72/100\n",
      "404/404 [==============================] - 0s 115us/step - loss: 48.4509 - mean_squared_error: 48.4509 - val_loss: 70.2165 - val_mean_squared_error: 70.2164\n",
      "Epoch 73/100\n",
      "404/404 [==============================] - 0s 111us/step - loss: 48.1818 - mean_squared_error: 48.1818 - val_loss: 69.5606 - val_mean_squared_error: 69.5606\n",
      "Epoch 74/100\n",
      "404/404 [==============================] - 0s 107us/step - loss: 47.8351 - mean_squared_error: 47.8351 - val_loss: 68.6544 - val_mean_squared_error: 68.6544\n",
      "Epoch 75/100\n",
      "404/404 [==============================] - 0s 105us/step - loss: 48.0678 - mean_squared_error: 48.0678 - val_loss: 70.7060 - val_mean_squared_error: 70.7060\n",
      "Epoch 76/100\n",
      "404/404 [==============================] - 0s 115us/step - loss: 47.4137 - mean_squared_error: 47.4137 - val_loss: 68.6101 - val_mean_squared_error: 68.6101\n",
      "Epoch 77/100\n",
      "404/404 [==============================] - 0s 109us/step - loss: 47.3815 - mean_squared_error: 47.3815 - val_loss: 67.6451 - val_mean_squared_error: 67.6451\n",
      "Epoch 78/100\n",
      "404/404 [==============================] - 0s 118us/step - loss: 46.8199 - mean_squared_error: 46.8200 - val_loss: 66.3414 - val_mean_squared_error: 66.3414\n",
      "Epoch 79/100\n",
      "404/404 [==============================] - 0s 114us/step - loss: 46.0846 - mean_squared_error: 46.0846 - val_loss: 65.7141 - val_mean_squared_error: 65.7141\n",
      "Epoch 80/100\n",
      "404/404 [==============================] - 0s 112us/step - loss: 45.7279 - mean_squared_error: 45.7279 - val_loss: 65.8662 - val_mean_squared_error: 65.8662\n",
      "Epoch 81/100\n",
      "404/404 [==============================] - 0s 112us/step - loss: 45.2935 - mean_squared_error: 45.2935 - val_loss: 64.0192 - val_mean_squared_error: 64.0191\n",
      "Epoch 82/100\n",
      "404/404 [==============================] - 0s 103us/step - loss: 45.6742 - mean_squared_error: 45.6742 - val_loss: 64.2062 - val_mean_squared_error: 64.2062\n",
      "Epoch 83/100\n",
      "404/404 [==============================] - 0s 113us/step - loss: 45.1021 - mean_squared_error: 45.1021 - val_loss: 63.3691 - val_mean_squared_error: 63.3691\n",
      "Epoch 84/100\n",
      "404/404 [==============================] - 0s 110us/step - loss: 44.0638 - mean_squared_error: 44.0638 - val_loss: 64.3146 - val_mean_squared_error: 64.3146\n",
      "Epoch 85/100\n",
      "404/404 [==============================] - 0s 112us/step - loss: 44.2128 - mean_squared_error: 44.2128 - val_loss: 61.7882 - val_mean_squared_error: 61.7882\n",
      "Epoch 86/100\n",
      "404/404 [==============================] - 0s 118us/step - loss: 43.6985 - mean_squared_error: 43.6985 - val_loss: 61.9397 - val_mean_squared_error: 61.9397\n",
      "Epoch 87/100\n",
      "404/404 [==============================] - 0s 115us/step - loss: 43.3903 - mean_squared_error: 43.3903 - val_loss: 61.3917 - val_mean_squared_error: 61.3917\n",
      "Epoch 88/100\n",
      "404/404 [==============================] - 0s 109us/step - loss: 43.4192 - mean_squared_error: 43.4192 - val_loss: 61.6400 - val_mean_squared_error: 61.6400\n",
      "Epoch 89/100\n",
      "404/404 [==============================] - 0s 121us/step - loss: 42.6202 - mean_squared_error: 42.6202 - val_loss: 60.1469 - val_mean_squared_error: 60.1469\n",
      "Epoch 90/100\n",
      "404/404 [==============================] - 0s 137us/step - loss: 42.4510 - mean_squared_error: 42.4510 - val_loss: 60.7107 - val_mean_squared_error: 60.7107\n",
      "Epoch 91/100\n",
      "404/404 [==============================] - 0s 113us/step - loss: 41.9018 - mean_squared_error: 41.9018 - val_loss: 60.3451 - val_mean_squared_error: 60.3451\n",
      "Epoch 92/100\n",
      "404/404 [==============================] - 0s 118us/step - loss: 41.6305 - mean_squared_error: 41.6305 - val_loss: 59.1584 - val_mean_squared_error: 59.1584\n",
      "Epoch 93/100\n",
      "404/404 [==============================] - 0s 148us/step - loss: 41.4849 - mean_squared_error: 41.4849 - val_loss: 58.5762 - val_mean_squared_error: 58.5762\n",
      "Epoch 94/100\n",
      "404/404 [==============================] - 0s 119us/step - loss: 40.9578 - mean_squared_error: 40.9578 - val_loss: 58.5517 - val_mean_squared_error: 58.5517\n",
      "Epoch 95/100\n",
      "404/404 [==============================] - 0s 111us/step - loss: 40.4167 - mean_squared_error: 40.4167 - val_loss: 56.2560 - val_mean_squared_error: 56.2560\n",
      "Epoch 96/100\n",
      "404/404 [==============================] - 0s 118us/step - loss: 39.9537 - mean_squared_error: 39.9538 - val_loss: 56.1631 - val_mean_squared_error: 56.1631\n",
      "Epoch 97/100\n"
     ]
    },
    {
     "name": "stdout",
     "output_type": "stream",
     "text": [
      "404/404 [==============================] - 0s 115us/step - loss: 39.5672 - mean_squared_error: 39.5672 - val_loss: 55.9717 - val_mean_squared_error: 55.9717\n",
      "Epoch 98/100\n",
      "404/404 [==============================] - 0s 135us/step - loss: 39.6386 - mean_squared_error: 39.6386 - val_loss: 55.5374 - val_mean_squared_error: 55.5374\n",
      "Epoch 99/100\n",
      "404/404 [==============================] - 0s 120us/step - loss: 39.6437 - mean_squared_error: 39.6437 - val_loss: 54.2386 - val_mean_squared_error: 54.2386\n",
      "Epoch 100/100\n",
      "404/404 [==============================] - 0s 98us/step - loss: 38.5654 - mean_squared_error: 38.5654 - val_loss: 54.4199 - val_mean_squared_error: 54.4199\n"
     ]
    },
    {
     "data": {
      "text/plain": [
       "<keras.callbacks.callbacks.History at 0x7faf574a9080>"
      ]
     },
     "execution_count": 43,
     "metadata": {},
     "output_type": "execute_result"
    }
   ],
   "source": [
    "# Train the model\n",
    "model.fit(x_train, y_train, batch_size=32, epochs=100, validation_data=(x_val,y_val))"
   ]
  },
  {
   "cell_type": "code",
   "execution_count": 44,
   "metadata": {},
   "outputs": [
    {
     "name": "stdout",
     "output_type": "stream",
     "text": [
      "102/102 [==============================] - 0s 74us/step\n",
      "loss : 45.16747194177964\n",
      "mean_squared_error : 45.1674690246582\n"
     ]
    }
   ],
   "source": [
    "result = model.evaluate(x_test, y_test)\n",
    "\n",
    "for i in range(len(model.metrics_names)):\n",
    "    print(model.metrics_names[i], \":\", result[i])"
   ]
  },
  {
   "cell_type": "code",
   "execution_count": null,
   "metadata": {},
   "outputs": [],
   "source": []
  }
 ],
 "metadata": {
  "kernelspec": {
   "display_name": "Python 3",
   "language": "python",
   "name": "python3"
  },
  "language_info": {
   "codemirror_mode": {
    "name": "ipython",
    "version": 3
   },
   "file_extension": ".py",
   "mimetype": "text/x-python",
   "name": "python",
   "nbconvert_exporter": "python",
   "pygments_lexer": "ipython3",
   "version": "3.7.3"
  }
 },
 "nbformat": 4,
 "nbformat_minor": 2
}
